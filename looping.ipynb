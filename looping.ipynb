{
  "nbformat": 4,
  "nbformat_minor": 0,
  "metadata": {
    "colab": {
      "provenance": [],
      "authorship_tag": "ABX9TyMc4XVttGJ6zvBfBPqAJ6Us",
      "include_colab_link": true
    },
    "kernelspec": {
      "name": "python3",
      "display_name": "Python 3"
    },
    "language_info": {
      "name": "python"
    }
  },
  "cells": [
    {
      "cell_type": "markdown",
      "metadata": {
        "id": "view-in-github",
        "colab_type": "text"
      },
      "source": [
        "<a href=\"https://colab.research.google.com/github/adriandii/Praktikum-DasProg/blob/main/looping.ipynb\" target=\"_parent\"><img src=\"https://colab.research.google.com/assets/colab-badge.svg\" alt=\"Open In Colab\"/></a>"
      ]
    },
    {
      "cell_type": "code",
      "execution_count": 2,
      "metadata": {
        "colab": {
          "base_uri": "https://localhost:8080/"
        },
        "id": "fWEzV9xIHFsG",
        "outputId": "407c7ab7-558a-4eeb-8f66-4966e2595d65"
      },
      "outputs": [
        {
          "output_type": "stream",
          "name": "stdout",
          "text": [
            "One of my favorite desserts is Churros\n",
            "One of my favorite desserts is Tiramisú\n",
            "One of my favorite desserts is Pudding\n"
          ]
        }
      ],
      "source": [
        "favorites = ['Churros', 'Tiramisú', 'Pudding']\n",
        "\n",
        "count = 0\t\t# count is iteration variable\n",
        "\n",
        "while count < len(favorites):\n",
        "    print('One of my favorite desserts is', favorites[count]);\n",
        "    count += 1\n"
      ]
    },
    {
      "cell_type": "code",
      "source": [
        "time = 0\n",
        "population = 1000 # 1000 bacteria to start with\n",
        "growth_rate = 0.21 # 21% growth per minute\n",
        "while population < 2000:\n",
        "  population = population + growth_rate * population\n",
        "  print(round(population))\n",
        "  time = time + 1\n",
        "print(\"It took\", time, \"minutes for the bacteria to double.\")\n",
        "print(\"The final population was\", round(population), \"bacteria.\")\n"
      ],
      "metadata": {
        "colab": {
          "base_uri": "https://localhost:8080/"
        },
        "id": "vV2iNmmcHW_-",
        "outputId": "6aa54d60-eb76-4ece-a0c5-0f4b184586af"
      },
      "execution_count": 3,
      "outputs": [
        {
          "output_type": "stream",
          "name": "stdout",
          "text": [
            "1210\n",
            "1464\n",
            "1772\n",
            "2144\n",
            "It took 4 minutes for the bacteria to double.\n",
            "The final population was 2144 bacteria.\n"
          ]
        }
      ]
    },
    {
      "cell_type": "code",
      "source": [
        "while True:  #constant condition\n",
        "    print(\"This is an infinite loop\")\n"
      ],
      "metadata": {
        "id": "gm1czhLxIQD9"
      },
      "execution_count": null,
      "outputs": []
    },
    {
      "cell_type": "code",
      "source": [
        "count = 0\t# Incorrectly initialized variable\n",
        "while count < 10:\n",
        "    print(\"This loop will never exit\")\n"
      ],
      "metadata": {
        "id": "6uE4xZdPIqIz"
      },
      "execution_count": null,
      "outputs": []
    },
    {
      "cell_type": "code",
      "source": [
        "flag = True\t#flag that never change\n",
        "while flag:\n",
        "    print(\"This loop will run indefinitely\")\n"
      ],
      "metadata": {
        "id": "K2VrZxo6Is1A"
      },
      "execution_count": null,
      "outputs": []
    },
    {
      "cell_type": "code",
      "source": [
        "x = 5\n",
        "while x > 0:\n",
        "    print(\"This loop will run forever\")\n",
        "x = x - 1  # Logical error: missing decrement in the loop, so x will never be less than or equal to 0\n"
      ],
      "metadata": {
        "id": "CghLb_I7IueU"
      },
      "execution_count": null,
      "outputs": []
    },
    {
      "cell_type": "code",
      "source": [
        "# Use multivalued assignment to set up controls\n",
        "time, population, growth_rate = 0, 1000, 0.21\n",
        "# Don't stop until we're exactly double the original size\n",
        "while population != 2000:\n",
        "  population = population + growth_rate * population\n",
        "  print(round(population))\n",
        "  time = time + 1\n",
        "print(\"It took\", time, \"minutes for the bacteria to double.\")\n"
      ],
      "metadata": {
        "id": "UJhk1AvKIy2w"
      },
      "execution_count": null,
      "outputs": []
    },
    {
      "cell_type": "code",
      "source": [
        "text = \"\"\n",
        "while text != \"q\":\t\t\t\t\t\t\t\t\t\t# not use while True\n",
        "  text = input(\"Please enter a chemical formula (or 'q' to exit): \")\t# user input\n",
        "  if text == \"q\":\n",
        "    print(\"…exiting program\")\n",
        "    break\t\t\t\t\t\t\t\t\t\t\t# break\n",
        "  elif text == \"H2O\":\n",
        "    print(\"Water\")\n",
        "  elif text == \"NH3\":\n",
        "    print(\"Ammonia\")\n",
        "  elif text == \"CH4\":\n",
        "    print(\"Methane\")\n",
        "  else:\n",
        "    print(\"Unknown compound\")\n"
      ],
      "metadata": {
        "colab": {
          "base_uri": "https://localhost:8080/"
        },
        "id": "kvyCJ0CQJGgy",
        "outputId": "58c33fd5-887f-485e-d64f-594a5906cfad"
      },
      "execution_count": 35,
      "outputs": [
        {
          "output_type": "stream",
          "name": "stdout",
          "text": [
            "Please enter a chemical formula (or 'q' to exit): H2O\n",
            "Water\n",
            "Please enter a chemical formula (or 'q' to exit): q\n",
            "…exiting program\n"
          ]
        }
      ]
    },
    {
      "cell_type": "code",
      "source": [
        "favorites = ['Churros', 'Tiramisú', 'Pudding']\n",
        "\n",
        "for dessert in favorites:\n",
        "    print('One of my favorite desserts is', dessert)\n"
      ],
      "metadata": {
        "colab": {
          "base_uri": "https://localhost:8080/"
        },
        "id": "-okeWO3NJYea",
        "outputId": "7cf32187-4332-45f7-89b0-457b5add5a70"
      },
      "execution_count": 11,
      "outputs": [
        {
          "output_type": "stream",
          "name": "stdout",
          "text": [
            "One of my favorite desserts is Churros\n",
            "One of my favorite desserts is Tiramisú\n",
            "One of my favorite desserts is Pudding\n"
          ]
        }
      ]
    },
    {
      "cell_type": "code",
      "source": [
        "country = 'Republik Indonesia'\n",
        "for ch in country:\n",
        "    print(ch, end=' ')\n"
      ],
      "metadata": {
        "colab": {
          "base_uri": "https://localhost:8080/"
        },
        "id": "Bw-lSnieJZ7W",
        "outputId": "5fc0c42a-c9a6-4f84-971e-4dbab2e003d2"
      },
      "execution_count": 12,
      "outputs": [
        {
          "output_type": "stream",
          "name": "stdout",
          "text": [
            "R e p u b l i k   I n d o n e s i a "
          ]
        }
      ]
    },
    {
      "cell_type": "code",
      "source": [
        "days_of_week = [\"Monday\", \"Tuesday\", \"Wednesday\", \"Thursday\", \"Friday\", \"Saturday\", \"Sunday\"]\n",
        "\n",
        "for day in days_of_week:\n",
        "    print(day)\n"
      ],
      "metadata": {
        "colab": {
          "base_uri": "https://localhost:8080/"
        },
        "id": "k31lmy7BKJod",
        "outputId": "36391aea-b36b-4472-9992-efdfa5f06266"
      },
      "execution_count": 13,
      "outputs": [
        {
          "output_type": "stream",
          "name": "stdout",
          "text": [
            "Monday\n",
            "Tuesday\n",
            "Wednesday\n",
            "Thursday\n",
            "Friday\n",
            "Saturday\n",
            "Sunday\n"
          ]
        }
      ]
    },
    {
      "cell_type": "code",
      "source": [
        "survey_responses = [\"positive\", \"neutral\", \"positive\", \"negative\", \"positive\", \"positive\", \"neutral\"]\n",
        "\n",
        "positive_count = 0\n",
        "\n",
        "for response in survey_responses:\n",
        "    if response == \"positive\":\n",
        "        positive_count += 1\n",
        "\n",
        "print(f\"Number of positive responses: {positive_count}\")\n"
      ],
      "metadata": {
        "colab": {
          "base_uri": "https://localhost:8080/"
        },
        "id": "Cw2A82fvKJys",
        "outputId": "eb9a5982-da4b-44eb-8647-f3b9949d997f"
      },
      "execution_count": 14,
      "outputs": [
        {
          "output_type": "stream",
          "name": "stdout",
          "text": [
            "Number of positive responses: 4\n"
          ]
        }
      ]
    },
    {
      "cell_type": "code",
      "source": [
        "sales_transactions = [100.50, 75.25, 50.75, 30.00, 45.50]\n",
        "\n",
        "total_revenue = 0\n",
        "\n",
        "for transaction in sales_transactions:\n",
        "    total_revenue += transaction\n",
        "\n",
        "print(f\"Total revenue: ${total_revenue:.2f}\")\n"
      ],
      "metadata": {
        "colab": {
          "base_uri": "https://localhost:8080/"
        },
        "id": "fth7isa4KYHp",
        "outputId": "55e9cee2-2447-4a28-e74f-4f1980461ab3"
      },
      "execution_count": 15,
      "outputs": [
        {
          "output_type": "stream",
          "name": "stdout",
          "text": [
            "Total revenue: $302.00\n"
          ]
        }
      ]
    },
    {
      "cell_type": "code",
      "source": [
        "email_addresses = [\"user1@spam.com\", \"user2@gmail.com\", \"user3@spam.com\"]\n",
        "\n",
        "spam_emails = []\n",
        "\n",
        "for email in email_addresses:\n",
        "    if email.endswith(\"@spam.com\"):\n",
        "        spam_emails.append(email)\n",
        "\n",
        "print(\"Spam emails:\")\n",
        "for email in spam_emails:\n",
        "    print(email)\n"
      ],
      "metadata": {
        "colab": {
          "base_uri": "https://localhost:8080/"
        },
        "id": "w0lPUUOLKilB",
        "outputId": "be9bc2f0-109b-4ee0-ee51-0aba3f13e4e8"
      },
      "execution_count": 16,
      "outputs": [
        {
          "output_type": "stream",
          "name": "stdout",
          "text": [
            "Spam emails:\n",
            "user1@spam.com\n",
            "user3@spam.com\n"
          ]
        }
      ]
    },
    {
      "cell_type": "code",
      "source": [
        "student_names = [\"Alice\", \"Bob\", \"Charlie\", \"David\"]\n",
        "student_name_to_search = \"Charlie\"\n",
        "\n",
        "student_found = False\n",
        "\n",
        "for name in student_names:\n",
        "    if name == student_name_to_search:\n",
        "        student_found = True\n",
        "        break\n",
        "\n",
        "if student_found:\n",
        "    print(f\"Student {student_name_to_search} found.\")\n",
        "else:\n",
        "    print(f\"Student {student_name_to_search} not found.\")\n"
      ],
      "metadata": {
        "colab": {
          "base_uri": "https://localhost:8080/"
        },
        "id": "noIV2y3EKwAO",
        "outputId": "0eb68c8d-6ba6-474b-d9bf-b36a8bb9b705"
      },
      "execution_count": 17,
      "outputs": [
        {
          "output_type": "stream",
          "name": "stdout",
          "text": [
            "Student Charlie found.\n"
          ]
        }
      ]
    },
    {
      "cell_type": "code",
      "source": [
        "temperatures = [75, 82, 79, 88, 91, 84, 77]\n",
        "max_temperature = temperatures[0]\n",
        "\n",
        "for temperature in temperatures:\n",
        "    if temperature > max_temperature:\n",
        "        max_temperature = temperature\n",
        "\n",
        "print(f\"The maximum temperature of the week was {max_temperature}°F.\")\n"
      ],
      "metadata": {
        "colab": {
          "base_uri": "https://localhost:8080/"
        },
        "id": "nHwKP4OWK4K1",
        "outputId": "32fd7709-fb5c-4d3c-b906-5685178b9fcb"
      },
      "execution_count": 18,
      "outputs": [
        {
          "output_type": "stream",
          "name": "stdout",
          "text": [
            "The maximum temperature of the week was 91°F.\n"
          ]
        }
      ]
    },
    {
      "cell_type": "code",
      "source": [
        "import time\n",
        "\n",
        "countdown_seconds = 5\n",
        "\n",
        "print(\"Get ready for liftoff!\")\n",
        "for remaining_seconds in range(countdown_seconds, 0, -1):\n",
        "    print(f\"{remaining_seconds}...\")\n",
        "    time.sleep(1)\n",
        "\n",
        "print(\"Blast off!\")\n"
      ],
      "metadata": {
        "colab": {
          "base_uri": "https://localhost:8080/"
        },
        "id": "zhyayW29K8fC",
        "outputId": "1555eae5-01d0-4143-ecba-558703ba2d05"
      },
      "execution_count": 19,
      "outputs": [
        {
          "output_type": "stream",
          "name": "stdout",
          "text": [
            "Get ready for liftoff!\n",
            "5...\n",
            "4...\n",
            "3...\n",
            "2...\n",
            "1...\n",
            "Blast off!\n"
          ]
        }
      ]
    },
    {
      "cell_type": "code",
      "source": [
        "days_in_month = 30\n",
        "start_day = 1 #1st day of the month\n",
        "\n",
        "print(\"<< Dummy Calendar >>\")\n",
        "print(\"Mon Tue Wed Thu Fri Sat Sun\")\n",
        "for day in range(1, days_in_month + 1):\n",
        "    print(f\"{day:3d}\", end=\" \")\n",
        "\n",
        "    # new line for next week (Sunday)\n",
        "    if day % 7 == 0:\n",
        "        print()\n"
      ],
      "metadata": {
        "colab": {
          "base_uri": "https://localhost:8080/"
        },
        "id": "ojwtgxJPLWTF",
        "outputId": "c02c8cb1-6998-41c4-891e-695048d7c1be"
      },
      "execution_count": 27,
      "outputs": [
        {
          "output_type": "stream",
          "name": "stdout",
          "text": [
            "<< Dummy Calendar >>\n",
            "Mon Tue Wed Thu Fri Sat Sun\n",
            "  1   2   3   4   5   6   7 \n",
            "  8   9  10  11  12  13  14 \n",
            " 15  16  17  18  19  20  21 \n",
            " 22  23  24  25  26  27  28 \n",
            " 29  30 "
          ]
        }
      ]
    },
    {
      "cell_type": "code",
      "source": [
        "outer = ['Li', 'Na', 'K']\n",
        "inner = ['F', 'Cl', 'Br']\n",
        "for metal in outer:\n",
        "    for halogen in inner:\n",
        "        print(metal + halogen)\n"
      ],
      "metadata": {
        "colab": {
          "base_uri": "https://localhost:8080/"
        },
        "id": "XTPLxxmqMI29",
        "outputId": "0c5d14f3-994e-42e1-b8ac-6b53394011a0"
      },
      "execution_count": 28,
      "outputs": [
        {
          "output_type": "stream",
          "name": "stdout",
          "text": [
            "LiF\n",
            "LiCl\n",
            "LiBr\n",
            "NaF\n",
            "NaCl\n",
            "NaBr\n",
            "KF\n",
            "KCl\n",
            "KBr\n"
          ]
        }
      ]
    },
    {
      "cell_type": "code",
      "source": [
        "height = 5  # Height of the pyramid\n",
        "\n",
        "for i in range(1, height + 1):\n",
        "    # Print spaces before the stars\n",
        "    for j in range(height - i):\n",
        "        print(\" \", end=\"\")\n",
        "\n",
        "    # Print the stars\n",
        "    for k in range(2 * i - 1):\n",
        "        print(\"*\", end=\"\")\n",
        "\n",
        "    # Move to the next line after each row\n",
        "    print()\n"
      ],
      "metadata": {
        "colab": {
          "base_uri": "https://localhost:8080/"
        },
        "id": "sUC36deNMWSY",
        "outputId": "ff0e4f95-77c5-4281-9a88-cd43909c5c91"
      },
      "execution_count": 29,
      "outputs": [
        {
          "output_type": "stream",
          "name": "stdout",
          "text": [
            "    *\n",
            "   ***\n",
            "  *****\n",
            " *******\n",
            "*********\n"
          ]
        }
      ]
    },
    {
      "cell_type": "code",
      "source": [
        "favorites = ['Churros', 'Tiramisú', 'Pudding']\n",
        "\n",
        "for dessert in favorites:\n",
        "    if dessert == 'Pudding':\n",
        "        print('Yes one of my favorite desserts is', dessert)\n",
        "else:\n",
        "    print('No sorry, that dessert is not on my list')\n"
      ],
      "metadata": {
        "colab": {
          "base_uri": "https://localhost:8080/"
        },
        "id": "8RB0170jMiV5",
        "outputId": "9fa239b4-065b-4752-fa18-16794b0723f2"
      },
      "execution_count": 30,
      "outputs": [
        {
          "output_type": "stream",
          "name": "stdout",
          "text": [
            "Yes one of my favorite desserts is Pudding\n",
            "No sorry, that dessert is not on my list\n"
          ]
        }
      ]
    },
    {
      "cell_type": "code",
      "source": [
        "countdown = 5\n",
        "\n",
        "while countdown > 0:\n",
        "    print(countdown)\n",
        "    countdown -= 1\n",
        "else:\n",
        "    print(\"Countdown complete! Blast off!\")\n"
      ],
      "metadata": {
        "colab": {
          "base_uri": "https://localhost:8080/"
        },
        "id": "P-bR2tEhMqS8",
        "outputId": "9db9be27-4ec3-4bfb-c045-219c8ab1bbc6"
      },
      "execution_count": 31,
      "outputs": [
        {
          "output_type": "stream",
          "name": "stdout",
          "text": [
            "5\n",
            "4\n",
            "3\n",
            "2\n",
            "1\n",
            "Countdown complete! Blast off!\n"
          ]
        }
      ]
    },
    {
      "cell_type": "code",
      "source": [
        "favorites = ['Churros', 'Tiramisú', 'Pudding']\n",
        "\n",
        "for dessert in favorites:\n",
        "    if dessert == 'Pudding':\n",
        "        print('My favorite is', dessert)\n",
        "        break\n",
        "else:\n",
        "    print('No sorry, not a dessert on my list')\n"
      ],
      "metadata": {
        "colab": {
          "base_uri": "https://localhost:8080/"
        },
        "id": "hDOLm0pZMxSm",
        "outputId": "4583e61f-3f58-488c-c2d8-d3c4aaa584c7"
      },
      "execution_count": 33,
      "outputs": [
        {
          "output_type": "stream",
          "name": "stdout",
          "text": [
            "My favorite is Pudding\n"
          ]
        }
      ]
    },
    {
      "cell_type": "code",
      "source": [
        "snacks_in_stock = [\"chips\", \"candy\", \"soda\", \"cookies\"]\n",
        "user_choice = \"\"\n",
        "\n",
        "while user_choice != \"q\":\n",
        "    user_choice = input(\"Enter your snack choice (or 'q' to exit): \")\n",
        "\n",
        "    # Check if the user wants to quit\n",
        "    if user_choice == \"q\":\n",
        "        print(\"Thank you for using the vending machine.\")\n",
        "        break\n",
        "\n",
        "    # Dispense the selected snack\n",
        "    print(f\"Dispensing {user_choice}. Enjoy your snack!\")\n",
        "\n",
        "print(\"Vending machine session ended.\")\n"
      ],
      "metadata": {
        "colab": {
          "base_uri": "https://localhost:8080/"
        },
        "id": "eGs_k4BZM6I0",
        "outputId": "486b1b63-266c-4b87-94d9-2f103fe37ef8"
      },
      "execution_count": 34,
      "outputs": [
        {
          "output_type": "stream",
          "name": "stdout",
          "text": [
            "Enter your snack choice (or 'q' to exit): soda\n",
            "Dispensing soda. Enjoy your snack!\n",
            "Enter your snack choice (or 'q' to exit): q\n",
            "Thank you for using the vending machine.\n",
            "Vending machine session ended.\n"
          ]
        }
      ]
    },
    {
      "cell_type": "code",
      "source": [
        "favorites = ['Churros', 'Tiramisú', 'Pudding']\n",
        "\n",
        "for dessert in favorites:\n",
        "    if dessert == 'Churros':\n",
        "        continue\n",
        "    print('Other desserts I like are', dessert)\n"
      ],
      "metadata": {
        "colab": {
          "base_uri": "https://localhost:8080/"
        },
        "id": "OlzB2_M9Na15",
        "outputId": "69825883-fefa-429c-fbed-bab166c878f6"
      },
      "execution_count": 36,
      "outputs": [
        {
          "output_type": "stream",
          "name": "stdout",
          "text": [
            "Other desserts I like are Tiramisú\n",
            "Other desserts I like are Pudding\n"
          ]
        }
      ]
    },
    {
      "cell_type": "code",
      "source": [
        "valid_login = \"admin\"\n",
        "valid_password = \"password\"\n",
        "\n",
        "while True:\n",
        "    login = input(\"Enter your login: \")\n",
        "    password = input(\"Enter your password: \")\n",
        "\n",
        "    if login == valid_login and password == valid_password:\n",
        "        print(\"Authentication successful!\")\n",
        "        break\n",
        "    else:\n",
        "        print(\"Invalid credentials. Please try again.\")\n",
        "        pass  # Placeholder for later (e.g., account lockout)\n",
        "\n",
        "print(\"Welcome, admin!\")\n"
      ],
      "metadata": {
        "colab": {
          "base_uri": "https://localhost:8080/"
        },
        "id": "t7jLtfjPNh8k",
        "outputId": "beaf4313-6f00-4f8d-df70-7333b3775358"
      },
      "execution_count": 39,
      "outputs": [
        {
          "output_type": "stream",
          "name": "stdout",
          "text": [
            "Enter your login: admin\n",
            "Enter your password: password\n",
            "Authentication successful!\n",
            "Welcome, admin!\n"
          ]
        }
      ]
    }
  ]
}