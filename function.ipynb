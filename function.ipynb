{
  "nbformat": 4,
  "nbformat_minor": 0,
  "metadata": {
    "colab": {
      "provenance": [],
      "authorship_tag": "ABX9TyMoojtrUL1b0+LfXnBsbiXa",
      "include_colab_link": true
    },
    "kernelspec": {
      "name": "python3",
      "display_name": "Python 3"
    },
    "language_info": {
      "name": "python"
    }
  },
  "cells": [
    {
      "cell_type": "markdown",
      "metadata": {
        "id": "view-in-github",
        "colab_type": "text"
      },
      "source": [
        "<a href=\"https://colab.research.google.com/github/adriandii/Praktikum-DasProg/blob/main/function.ipynb\" target=\"_parent\"><img src=\"https://colab.research.google.com/assets/colab-badge.svg\" alt=\"Open In Colab\"/></a>"
      ]
    },
    {
      "cell_type": "code",
      "execution_count": null,
      "metadata": {
        "colab": {
          "base_uri": "https://localhost:8080/"
        },
        "id": "VPU-Axrrkmy-",
        "outputId": "a18b0a2b-6798-433e-e85e-9b36b2316fb9"
      },
      "outputs": [
        {
          "output_type": "stream",
          "name": "stdout",
          "text": [
            "hi, adrian\n"
          ]
        }
      ],
      "source": [
        "# Nama : Adrian Fardan Andi\n",
        "# NIM : J0403231143\n",
        "# Email : adriandi@apps.ipb.ac.id"
      ]
    },
    {
      "cell_type": "code",
      "source": [
        "# define function\n",
        "def fun():\n",
        "  print(\"My fun function\")\n",
        "# call function\n",
        "fun()"
      ],
      "metadata": {
        "colab": {
          "base_uri": "https://localhost:8080/"
        },
        "id": "2tk5jgKtVKIn",
        "outputId": "fdf75c5d-e388-494e-b94d-b88e99833453"
      },
      "execution_count": null,
      "outputs": [
        {
          "output_type": "stream",
          "name": "stdout",
          "text": [
            "My fun function\n"
          ]
        }
      ]
    },
    {
      "cell_type": "code",
      "source": [
        "# Here a,b are the parameters\n",
        "def sum(a,b):\n",
        " print(a+b)\n",
        "\n",
        "# Here the values 1,2 are arguments\n",
        "sum(1,2)"
      ],
      "metadata": {
        "colab": {
          "base_uri": "https://localhost:8080/"
        },
        "id": "XuY-yt-OlOCD",
        "outputId": "dccf69bf-3c91-40d6-a0c1-5e38fcfeac76"
      },
      "execution_count": null,
      "outputs": [
        {
          "output_type": "stream",
          "name": "stdout",
          "text": [
            "Masukkan Suhu : 0\n",
            "Suhu fahrenheitnya adalah :  32.0\n"
          ]
        }
      ]
    },
    {
      "cell_type": "code",
      "source": [
        "def greet(name, greeting):\n",
        " print(f\"{greeting}, {name}!\")\n",
        "greet(\"Alice\", \"Hello\") # \"Hello, Alice!\""
      ],
      "metadata": {
        "colab": {
          "base_uri": "https://localhost:8080/"
        },
        "id": "UuJo8nyHrTbK",
        "outputId": "d0a7f65d-b36e-434e-981d-b14215eba107"
      },
      "execution_count": null,
      "outputs": [
        {
          "output_type": "stream",
          "name": "stdout",
          "text": [
            "halo, adrian\n"
          ]
        }
      ]
    },
    {
      "cell_type": "code",
      "source": [
        "def greet(name, greeting):\n",
        " print(f\"{greeting}, {name}!\")\n",
        "greet(greeting=\"Hi\", name=\"Bob\") # \"Hi, Bob!\""
      ],
      "metadata": {
        "colab": {
          "base_uri": "https://localhost:8080/"
        },
        "id": "v5bq-kKmrkiA",
        "outputId": "dbe62a84-fabe-4bc9-c899-7c21dfc05b68"
      },
      "execution_count": null,
      "outputs": [
        {
          "output_type": "stream",
          "name": "stdout",
          "text": [
            "hai, fadil\n"
          ]
        }
      ]
    },
    {
      "cell_type": "code",
      "source": [
        "def greet(name, greeting=\"Hello\"):\n",
        " print(f\"{greeting}, {name}!\")\n",
        "greet(\"Eve\") # \"Hello, Eve!\""
      ],
      "metadata": {
        "colab": {
          "base_uri": "https://localhost:8080/"
        },
        "id": "DkgmVmC7sIRv",
        "outputId": "9a290726-5315-42f8-8d45-3594c7494318"
      },
      "execution_count": null,
      "outputs": [
        {
          "output_type": "stream",
          "name": "stdout",
          "text": [
            "asep\n",
            "udin\n",
            "ujang\n"
          ]
        }
      ]
    },
    {
      "cell_type": "code",
      "source": [
        "def print_args(*args):\n",
        " for arg in args:\n",
        "    print(arg)\n",
        "print_args(1, \"apple\", True) # 1\\n\"apple\"\\nTrue"
      ],
      "metadata": {
        "colab": {
          "base_uri": "https://localhost:8080/"
        },
        "id": "JTb6twCyyOjF",
        "outputId": "fdb26f9e-a380-4ec4-c99c-56a33af039ea"
      },
      "execution_count": null,
      "outputs": [
        {
          "output_type": "stream",
          "name": "stdout",
          "text": [
            "1\n",
            "apple\n",
            "True\n"
          ]
        }
      ]
    },
    {
      "cell_type": "code",
      "source": [
        "def print_kwargs(**kwargs):\n",
        " for key, value in kwargs.items():\n",
        "  print(f\"{key}: {value}\")\n",
        "print_kwargs(name=\"Alice\", age=30) # \"name: Alice\"\\n\"age: 30\""
      ],
      "metadata": {
        "colab": {
          "base_uri": "https://localhost:8080/"
        },
        "id": "wokofHh30Z0D",
        "outputId": "90e70bda-5311-4791-f63c-714623d20f11"
      },
      "execution_count": null,
      "outputs": [
        {
          "output_type": "stream",
          "name": "stdout",
          "text": [
            "1\n",
            "2\n",
            "3\n",
            "4\n"
          ]
        }
      ]
    },
    {
      "cell_type": "code",
      "source": [
        "def print_list(numbers):\n",
        " for num in numbers:\n",
        "  print(num)\n",
        "print_list([1, 2, 3, 4]) # 1\\n2\\n3\\n4\n",
        "def print_dict(my_dict):\n",
        " for key, value in my_dict.items():\n",
        "  print(f\"{key}: {value}\")\n",
        "print_dict({\"name\": \"Bob\", \"age\": 25}) # Output: \"name: Bob\"\\n\"age: 25\""
      ],
      "metadata": {
        "colab": {
          "base_uri": "https://localhost:8080/"
        },
        "id": "La0XE6uz7raW",
        "outputId": "f6cdc951-02f7-4eca-a74f-156a39f1fc9f"
      },
      "execution_count": null,
      "outputs": [
        {
          "output_type": "stream",
          "name": "stdout",
          "text": [
            "1\n",
            "2\n",
            "3\n",
            "4\n",
            "name: Bob\n",
            "age: 25\n"
          ]
        }
      ]
    },
    {
      "cell_type": "code",
      "source": [
        "def f(a, *b, c=6, **d): # compare it with def f(a, b=6, *c, **d)\n",
        " print(f\"a: {a}\")\n",
        " print(f\"b: {b}\")\n",
        " print(f\"c: {c}\")\n",
        " print(f\"d: {d}\")\n",
        "f(1, 2, 3, x=4, y=5) # Default used\n",
        "f(1, 2, 3, c=7, x=4, y=5) # Override default"
      ],
      "metadata": {
        "id": "6gmobKyI8dPm"
      },
      "execution_count": null,
      "outputs": []
    },
    {
      "cell_type": "code",
      "source": [
        "def add_numbers(a, b):\n",
        " \"\"\"This function adds two numbers and\n",
        "returns the result.\"\"\"\n",
        " result = a + b\n",
        " return result\n",
        "# Call the function with a return value\n",
        "sum_result = add_numbers(5, 3)\n",
        "print(f\"The sum is: {sum_result}\")"
      ],
      "metadata": {
        "colab": {
          "base_uri": "https://localhost:8080/"
        },
        "id": "91-YrhkM8eEj",
        "outputId": "235f0bd3-143f-4440-aae9-282eac4d0d0f"
      },
      "execution_count": null,
      "outputs": [
        {
          "output_type": "stream",
          "name": "stdout",
          "text": [
            "The sum is:  8\n"
          ]
        }
      ]
    },
    {
      "cell_type": "code",
      "source": [
        "def greet(name):\n",
        " \"\"\"This function greets the person passed in as a\n",
        "parameter.\"\"\"\n",
        " print(f\"Hello, {name}!\")\n",
        "# Call the function without a return value\n",
        "greet(\"Alice\")"
      ],
      "metadata": {
        "colab": {
          "base_uri": "https://localhost:8080/"
        },
        "id": "JHL57f1-9M8v",
        "outputId": "6a798a09-0cfc-4a12-ca3a-d832a513c515"
      },
      "execution_count": null,
      "outputs": [
        {
          "output_type": "stream",
          "name": "stdout",
          "text": [
            "Hello, Alice!\n"
          ]
        }
      ]
    },
    {
      "cell_type": "code",
      "source": [
        "if 'a' == 'a':\n",
        " def greet():\n",
        "  return \"Hello, World!\"\n",
        "else:\n",
        " def greet():\n",
        "  return \"Hi there!\"\n"
      ],
      "metadata": {
        "id": "_-0hw1CP9mxj"
      },
      "execution_count": null,
      "outputs": []
    },
    {
      "cell_type": "code",
      "source": [
        "def say_hello():\n",
        " print(\"Hello, World!\")\n",
        "greeting = say_hello # Assigning the function to a different name\n",
        "greeting() # Calls the function\n",
        "def say_hello():\n",
        " print(\"Hello, Python!\")\n",
        "say_hello() # Calls the updated function"
      ],
      "metadata": {
        "colab": {
          "base_uri": "https://localhost:8080/"
        },
        "id": "mE2WR_mI9tNV",
        "outputId": "a729f3c4-80bd-45be-c96c-d89ba3f0b204"
      },
      "execution_count": null,
      "outputs": [
        {
          "output_type": "stream",
          "name": "stdout",
          "text": [
            "Hello, World!\n",
            "Hello, Python!\n"
          ]
        }
      ]
    },
    {
      "cell_type": "code",
      "source": [
        "def greet(name):\n",
        " return f\"Hello, {name}!\"\n",
        "# Assign the function to a variable\n",
        "my_function = greet\n",
        "# Call the function using the variable\n",
        "result = my_function(\"Alice\")\n",
        "print(result) # Output: Hello, Alice!"
      ],
      "metadata": {
        "colab": {
          "base_uri": "https://localhost:8080/"
        },
        "id": "xAxh1ilx9v3U",
        "outputId": "0d951e6a-89b5-42ae-f433-0ca6c23264a3"
      },
      "execution_count": null,
      "outputs": [
        {
          "output_type": "stream",
          "name": "stdout",
          "text": [
            "Hello, Alice!\n"
          ]
        }
      ]
    },
    {
      "cell_type": "code",
      "source": [
        "def apply(func, x):\n",
        " return func(x)\n",
        "def square(x):\n",
        " return x * x\n",
        "result = apply(square, 5)\n",
        "print(result) # Output: 25"
      ],
      "metadata": {
        "colab": {
          "base_uri": "https://localhost:8080/"
        },
        "id": "BoYLbfbw-Gt4",
        "outputId": "b57639e1-0c77-49ba-9906-615f4f6af434"
      },
      "execution_count": null,
      "outputs": [
        {
          "output_type": "stream",
          "name": "stdout",
          "text": [
            "25\n"
          ]
        }
      ]
    },
    {
      "cell_type": "code",
      "source": [
        "def get_multiplier(factor):\n",
        "  def multiplier(x):\n",
        "    return x * factor\n",
        "  return multiplier\n",
        "\n",
        "double = get_multiplier(2)\n",
        "triple = get_multiplier(3)\n",
        "print(double(5)) # Output: 10\n",
        "print(triple(5)) # Output: 15"
      ],
      "metadata": {
        "colab": {
          "base_uri": "https://localhost:8080/"
        },
        "id": "hC-W6L1f-74X",
        "outputId": "fdf941b0-3cda-4e6f-915f-1f11e86acc54"
      },
      "execution_count": null,
      "outputs": [
        {
          "output_type": "stream",
          "name": "stdout",
          "text": [
            "10\n",
            "15\n"
          ]
        }
      ]
    },
    {
      "cell_type": "code",
      "source": [
        "def my_function():\n",
        " x = 10 # x is in the local scope\n",
        " print(x)\n",
        "def outer_function():\n",
        " y = 20 # y is in the enclosing scope\n",
        " def inner_function():\n",
        "  print(y) # inner_function can access y from the enclosing scope\n",
        "z = 30 # z is in the global scope\n",
        "def another_function():\n",
        " print(z) # another_function can access z from the global scope\n",
        "print(len(\"Hello, World!\")) # len is a built-in function"
      ],
      "metadata": {
        "colab": {
          "base_uri": "https://localhost:8080/"
        },
        "id": "X9-hmEMI_nIM",
        "outputId": "9d733215-7732-4081-a381-8c3b10d6be81"
      },
      "execution_count": null,
      "outputs": [
        {
          "output_type": "stream",
          "name": "stdout",
          "text": [
            "13\n"
          ]
        }
      ]
    },
    {
      "cell_type": "code",
      "source": [
        "global_var = 10 # Global variable\n",
        "def modify_global():\n",
        " global global_var # Use the global keyword to MODIFY the global variable\n",
        " global_var = 20\n",
        "modify_global()\n",
        "print(global_var) # This will print the modified global variable, which is 20"
      ],
      "metadata": {
        "colab": {
          "base_uri": "https://localhost:8080/"
        },
        "id": "CdmwB3de_wyx",
        "outputId": "605c8857-5444-49e6-deb5-7cb823a4944e"
      },
      "execution_count": null,
      "outputs": [
        {
          "output_type": "stream",
          "name": "stdout",
          "text": [
            "20\n"
          ]
        }
      ]
    },
    {
      "cell_type": "code",
      "source": [
        "def modify_list(my_list):\n",
        " my_list.append(4) # Modifying the list inside the function\n",
        "\n",
        "my_list = [1, 2, 3]\n",
        "modify_list(my_list)\n",
        "print(my_list) # Output: [1, 2, 3, 4]\n",
        "\n",
        "def reassign_list(my_list):\n",
        " my_list = [4, 5, 6] # Reassigning the list to a new object\n",
        "\n",
        "my_list = [1, 2, 3]\n",
        "reassign_list(my_list)\n",
        "print(my_list) # Output: [1, 2, 3]"
      ],
      "metadata": {
        "colab": {
          "base_uri": "https://localhost:8080/"
        },
        "id": "pdM0yDj0__5K",
        "outputId": "380097cc-5c25-47be-8353-67611a5b02a0"
      },
      "execution_count": null,
      "outputs": [
        {
          "output_type": "stream",
          "name": "stdout",
          "text": [
            "[1, 2, 3, 4]\n",
            "[1, 2, 3]\n"
          ]
        }
      ]
    },
    {
      "cell_type": "code",
      "source": [
        "def modify_integer(x):\n",
        " x += 1 # Modifying the integer inside the function\n",
        "my_integer = 5\n",
        "modify_integer(my_integer)\n",
        "print(my_integer) # Output: 5"
      ],
      "metadata": {
        "colab": {
          "base_uri": "https://localhost:8080/"
        },
        "id": "uWuLpeolAQzI",
        "outputId": "3b21a355-a1bf-4b96-f1f1-ee4bfc07fb24"
      },
      "execution_count": null,
      "outputs": [
        {
          "output_type": "stream",
          "name": "stdout",
          "text": [
            "5\n"
          ]
        }
      ]
    },
    {
      "cell_type": "code",
      "source": [
        "def product(a, b):\n",
        " print(a * b)\n",
        "def product(a, b, c):\n",
        " print(a * b * c)\n",
        "# product(4, 5) # Uncommenting this shows an error\n",
        "\n",
        "product(4, 5, 5) # This line will call the last function\n",
        "# Try using *args to solve that problem"
      ],
      "metadata": {
        "colab": {
          "base_uri": "https://localhost:8080/"
        },
        "id": "vmjadRNdAlIh",
        "outputId": "d7855683-7357-4d05-9555-d3040fb75e54"
      },
      "execution_count": null,
      "outputs": [
        {
          "output_type": "stream",
          "name": "stdout",
          "text": [
            "100\n"
          ]
        }
      ]
    },
    {
      "cell_type": "code",
      "source": [
        "def factorial(n):\n",
        " if n == 0:\n",
        "  return 1\n",
        " else:\n",
        "  return n * factorial(n - 1)\n",
        "result = factorial(5)\n",
        "print(result) # Output: 120"
      ],
      "metadata": {
        "colab": {
          "base_uri": "https://localhost:8080/"
        },
        "id": "lTUDQBMKAmCe",
        "outputId": "bd9fda6e-5074-4ef3-c36e-f0b5bd85649b"
      },
      "execution_count": null,
      "outputs": [
        {
          "output_type": "stream",
          "name": "stdout",
          "text": [
            "120\n"
          ]
        }
      ]
    },
    {
      "cell_type": "code",
      "source": [
        "def divide(x, y):\n",
        " try:\n",
        "  result = x / y\n",
        " except ZeroDivisionError:\n",
        "  print(\"Error: Division by zero\")\n",
        "  return None\n",
        " except TypeError:\n",
        "  print(\"Error: Invalid data types\")\n",
        "  return None\n",
        " except Exception as e:\n",
        "  print(f\"An unexpected error occurred: {e}\")\n",
        "  return None\n",
        " else:\n",
        "  return result\n",
        " finally:\n",
        "  print(\"Division operation complete\")\n",
        "# Example usages\n",
        "print(divide(10, 2)) # Output: 5.0\n",
        "print(divide(10, 0)) # Output: Error: Division by zero\\nDivision operation complete\\nNone\n",
        "print(divide(\"10\", 0)) # Output: Error: Invalid data types\\nDivision operation complete\\nNone"
      ],
      "metadata": {
        "colab": {
          "base_uri": "https://localhost:8080/"
        },
        "id": "6oaWdgvhAsOl",
        "outputId": "2f198bb6-6eeb-470a-97c2-c948b8b852b3"
      },
      "execution_count": null,
      "outputs": [
        {
          "output_type": "stream",
          "name": "stdout",
          "text": [
            "Division operation complete\n",
            "5.0\n",
            "Error: Division by zero\n",
            "Division operation complete\n",
            "None\n",
            "Error: Invalid data types\n",
            "Division operation complete\n",
            "None\n"
          ]
        }
      ]
    },
    {
      "cell_type": "code",
      "source": [
        "def add(a, b):\n",
        " \"\"\"\n",
        " This function adds two numbers together.\n",
        "\n",
        " Args:\n",
        " a (int): The first number to be added.\n",
        " b (int): The second number to be added.\n",
        "\n",
        " Returns:\n",
        " int: The sum of the two input numbers.\n",
        "\n",
        " Example:\n",
        " >>> add(3, 4)\n",
        " 7\n",
        " \"\"\"\n",
        " return a + b\n",
        "help(add) # Displays the docstring"
      ],
      "metadata": {
        "colab": {
          "base_uri": "https://localhost:8080/"
        },
        "id": "Rl4yOdOFBGHh",
        "outputId": "0f8a62b1-3247-4ef1-f7de-df6bd4bdf90a"
      },
      "execution_count": null,
      "outputs": [
        {
          "output_type": "stream",
          "name": "stdout",
          "text": [
            "Help on function add in module __main__:\n",
            "\n",
            "add(a, b)\n",
            "    This function adds two numbers together.\n",
            "    \n",
            "    Args:\n",
            "    a (int): The first number to be added.\n",
            "    b (int): The second number to be added.\n",
            "    \n",
            "    Returns:\n",
            "    int: The sum of the two input numbers.\n",
            "    \n",
            "    Example:\n",
            "    >>> add(3, 4)\n",
            "    7\n",
            "\n"
          ]
        }
      ]
    }
  ]
}