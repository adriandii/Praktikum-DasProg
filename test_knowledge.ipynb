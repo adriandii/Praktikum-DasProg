{
  "nbformat": 4,
  "nbformat_minor": 0,
  "metadata": {
    "colab": {
      "provenance": [],
      "authorship_tag": "ABX9TyOUZRPXUzyLLjqVFo0sFvng",
      "include_colab_link": true
    },
    "kernelspec": {
      "name": "python3",
      "display_name": "Python 3"
    },
    "language_info": {
      "name": "python"
    }
  },
  "cells": [
    {
      "cell_type": "markdown",
      "metadata": {
        "id": "view-in-github",
        "colab_type": "text"
      },
      "source": [
        "<a href=\"https://colab.research.google.com/github/adriandii/Praktikum-DasProg/blob/main/test_knowledge.ipynb\" target=\"_parent\"><img src=\"https://colab.research.google.com/assets/colab-badge.svg\" alt=\"Open In Colab\"/></a>"
      ]
    },
    {
      "cell_type": "code",
      "execution_count": null,
      "metadata": {
        "id": "oIjj4-BMWtIp",
        "colab": {
          "base_uri": "https://localhost:8080/"
        },
        "outputId": "7f643618-b36a-4617-8e8d-e7dd39573a10"
      },
      "outputs": [
        {
          "output_type": "stream",
          "name": "stdout",
          "text": [
            "Masukkan suhu : 100\n",
            "Masukkan skala (C/F) : C\n",
            "212.0\n",
            "- - - - - - - - - - - - - - - - - - - - \n",
            "Masukkan suhu : 212\n",
            "Masukkan skala (C/F) : F\n",
            "100.0\n",
            "- - - - - - - - - - - - - - - - - - - - \n",
            "Masukkan suhu : 100\n",
            "Masukkan skala (C/F) : K\n",
            "Skala invalid: hanya menerima 'C' atau 'F'.\n",
            "None\n"
          ]
        }
      ],
      "source": [
        "def konvert(temperatur, skala):\n",
        "    try:\n",
        "        if skala == 'C':\n",
        "            return temperatur * 9 / 5 + 32\n",
        "        elif skala == 'F':\n",
        "            return (temperatur - 32) * 5 / 9\n",
        "        else:\n",
        "            raise ValueError(\"Skala tidak diketahui, gunakan 'C' atau 'F'. \")\n",
        "    except ValueError as e:\n",
        "        print(\"Skala invalid: hanya menerima 'C' atau 'F'.\")\n",
        "        return None\n",
        "    except Exception as e:\n",
        "        print(f\"Error: {e}\")\n",
        "        return None\n",
        "\n",
        "\n",
        "print(konvert(int((input(\"Masukkan suhu : \"))), str((input(\"Masukkan skala (C/F) : \"))) ))\n",
        "for i in range (20):\n",
        "  print (\"-\", end=' ')\n",
        "print()\n",
        "print(konvert(int((input(\"Masukkan suhu : \"))), str((input(\"Masukkan skala (C/F) : \"))) ))\n",
        "for i in range (20):\n",
        "  print (\"-\", end=' ')\n",
        "print()\n",
        "print(konvert(int((input(\"Masukkan suhu : \"))), str((input(\"Masukkan skala (C/F) : \"))) ))"
      ]
    },
    {
      "cell_type": "code",
      "source": [
        "def calculator(*numbers, operator):\n",
        "    try:\n",
        "        result = numbers[0]\n",
        "        for i in range(1, len(numbers)):\n",
        "            result = eval(f\"{result} {operator} {numbers[i]}\")\n",
        "        return result\n",
        "    except SyntaxError:\n",
        "        print(\"Invalid operator:\", operator)\n",
        "    except Exception as e:\n",
        "        print(f\"Error: {e}\")\n",
        "\n",
        "print(calculator(1, 2, 3, 4, operator='+'))\n",
        "print(calculator(2, 3, 4, 5, operator='-'))\n",
        "print(calculator(3, 4, 5, 6, operator='*'))\n",
        "\n",
        "sum_of_numbers = calculator(1, 2, 3, 4, operator='+')\n",
        "square_of_summed = calculator(sum_of_numbers, sum_of_numbers, operator='*')\n",
        "print(square_of_summed)\n",
        "\n",
        "print(calculator(1, 2, 3, 4, operator='M'))"
      ],
      "metadata": {
        "id": "5VSN3P_Jd9Ul",
        "colab": {
          "base_uri": "https://localhost:8080/"
        },
        "outputId": "bfc2994d-ae89-4c5d-8447-89316855857b"
      },
      "execution_count": 5,
      "outputs": [
        {
          "output_type": "stream",
          "name": "stdout",
          "text": [
            "10\n",
            "-10\n",
            "360\n",
            "100\n",
            "Invalid operator: M\n",
            "None\n"
          ]
        }
      ]
    }
  ]
}